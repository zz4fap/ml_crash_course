{
  "cells": [
    {
      "metadata": {
        "collapsed": true
      },
      "cell_type": "markdown",
      "source": "Exercise 2 - Simple Linear Regression\n=====================\n\nWe want to know how to make our chocolate-bar customers happier. To do this, we need to know which chocolate bar _features_ predict customer happiness. For example, customers may be happier when chocolate bars are bigger, or when they contain more cocoa. \n\nWe have data on customer happiness when eating chocolate bars with different features. Lets look at the relationship between happiness and bar size.\n\nStep 1\n--\n\nFirst, lets have a look at our data.\n\n#### In the cell below replace the text `<printDataHere>` with `print(dataset.head())` and then press __Run__ in the toolbar above (or press __Shift+Enter__)."
    },
    {
      "metadata": {
        "scrolled": true,
        "trusted": true
      },
      "cell_type": "code",
      "source": "import warnings\nwarnings.filterwarnings(\"ignore\")\nimport pandas as pd\nimport matplotlib.pyplot as graph\nimport statsmodels.formula.api as smf\nfrom scipy import stats\n\ndataset = pd.read_csv('Data/chocolate data.txt', index_col=False, sep=\"\\t\",header=0)\n    \n###\n# REPLACE <PrintDataHere> WITH print(dataset.head())\n###\n<PrintDataHere>\n###",
      "execution_count": null,
      "outputs": []
    },
    {
      "metadata": {},
      "cell_type": "markdown",
      "source": "The data represents 100 different variations of chocolate bars and the measured customer happiness for each one. \n\nStep 2\n--\n\nWe want to know which chocolate bar features make customers happy.\n\nThe example below shows a linear regression between __cocoa percentage__ and __happiness__. You can read through the comments to understand what is happening. \n\n#### __Run the code__ to to see the output visualized."
    },
    {
      "metadata": {
        "trusted": true
      },
      "cell_type": "code",
      "source": "# Run this cell!\n\n# DO NOT EDIT ANY OF THIS CODE\n\n# Define a function to perform a linear regression\ndef PerformLinearRegression(formula):\n\n    # This performs linear regression\n    lm = smf.ols(formula = formula, data = dataset).fit()\n\n    featureName=formula.split(\" \")[-1]\n    \n    # get the data for the x parameter (our feature)\n    train_X=dataset[featureName]\n    \n    # This makes and shows a graph\n    intercept=lm.params[0]\n    slope=lm.params[1]\n    line = slope * train_X + intercept\n    graph.plot(train_X, line, '-', c = 'red')\n    graph.scatter(train_X, dataset.customer_happiness)\n    graph.ylabel('customer_happiness')\n    graph.xlabel(featureName)\n    graph.show()\n\n# This performs the linear regression steps listed above\n# The text in red is the formula for our regression\nPerformLinearRegression('customer_happiness ~ cocoa_percent')",
      "execution_count": null,
      "outputs": []
    },
    {
      "metadata": {},
      "cell_type": "markdown",
      "source": "In the scatter plot above, each point represents an observation for a single chocolate bar.\n\nIt seems that __more cocoa makes customers more happy__. We can tell, because as we increase the amount of cocoa (x axis) the amount of customer happiness (y axis) increases. \n\nStep 3\n------\n\nLet's look at some other features.\n\n#### Below, replace the text `<addFeatureHere>` with __`weight`__ to see if heavier chocolate bars make people happier.\n\nAlso try the variables `sugar_percent` and  `milk_percent` to see if these improve customers' experiences."
    },
    {
      "metadata": {
        "trusted": true
      },
      "cell_type": "code",
      "source": "###\n# CHANGE <addFeatureHere> TO weight IN THE LINE BELOW\n###\nPerformLinearRegression('customer_happiness ~ <addFeatureHere>')\n###",
      "execution_count": null,
      "outputs": []
    },
    {
      "metadata": {},
      "cell_type": "markdown",
      "source": "It looks like heavier chocolate bars make customers happier. The amount of milk or sugar, however, don't seem to make customers happier. \n\nConclusion\n---\nYou have run a simple linear regression. This told us that if we want to make a chocolate bar that will make customers happy, it should be large and contain a lot of cocoa.\n\nWell done! You can now go back to the course and click __'Next Step'__ to move onto using linear regression with multiple features."
    }
  ],
  "metadata": {
    "kernelspec": {
      "name": "python36",
      "display_name": "Python 3.6",
      "language": "python"
    },
    "language_info": {
      "mimetype": "text/x-python",
      "nbconvert_exporter": "python",
      "name": "python",
      "pygments_lexer": "ipython3",
      "version": "3.6.6",
      "file_extension": ".py",
      "codemirror_mode": {
        "version": 3,
        "name": "ipython"
      }
    }
  },
  "nbformat": 4,
  "nbformat_minor": 2
}